{
 "cells": [
  {
   "cell_type": "code",
   "execution_count": null,
   "metadata": {},
   "outputs": [],
   "source": [
    "import pandas as pd\n",
    "import seaborn as sns\n",
    "import numpy as np\n",
    "from matplotlib import pyplot as plt\n",
    "from scipy import stats\n",
    "import datetime\n",
    "from sklearn.linear_model import LinearRegression"
   ]
  },
  {
   "cell_type": "code",
   "execution_count": null,
   "metadata": {},
   "outputs": [],
   "source": [
    "baseflow = pd.read_csv('RRCA_baseflow.csv')"
   ]
  },
  {
   "cell_type": "code",
   "execution_count": null,
   "metadata": {},
   "outputs": [],
   "source": [
    "result = []\n",
    "for date in baseflow['Date']:\n",
    "        excel_date = int(date)\n",
    "        py_date = datetime.datetime(1, 1, 1) + datetime.timedelta(excel_date - 2)\n",
    "\n",
    "        result.append(py_date)\n",
    "\n",
    "baseflow['formatDate'] = result\n",
    "\n",
    "display(baseflow)"
   ]
  },
  {
   "cell_type": "code",
   "execution_count": null,
   "metadata": {},
   "outputs": [],
   "source": [
    "plt.figure(figsize=(20,15))\n",
    "sns.regplot(data=baseflow.sample(frac=.25), x='Evapotranspiration', y='Observed')\n",
    "plt.figure(figsize=(20,15))\n",
    "sns.regplot(data=baseflow.sample(frac=.25), x='Precipitation', y='Observed')\n",
    "plt.figure(figsize=(20,15))\n",
    "sns.regplot(data=baseflow.sample(frac=.25), x='Irrigation_pumping', y='Observed')"
   ]
  },
  {
   "cell_type": "code",
   "execution_count": null,
   "metadata": {},
   "outputs": [],
   "source": [
    "plt.figure(figsize=(30, 15))\n",
    "ax = sns.regplot(x='Date', y='Evapotranspiration', data=baseflow.sample(frac=.25))\n"
   ]
  },
  {
   "cell_type": "code",
   "execution_count": null,
   "metadata": {},
   "outputs": [],
   "source": [
    "plt.figure(figsize=(30, 15))\n",
    "ax = sns.regplot(x='Date', y='Precipitation', data=baseflow.sample(frac=.25))"
   ]
  },
  {
   "cell_type": "code",
   "execution_count": null,
   "metadata": {},
   "outputs": [],
   "source": [
    "plt.figure(figsize=(30, 15))\n",
    "ax = sns.regplot(x='Date', y='Irrigation_pumping', data=baseflow.sample(frac=.25))"
   ]
  },
  {
   "cell_type": "code",
   "execution_count": null,
   "metadata": {},
   "outputs": [],
   "source": [
    "plt.figure(figsize=(30, 15))\n",
    "ax = sns.regplot(x='Date', y='Observed', data=baseflow.sample(frac=.25))"
   ]
  },
  {
   "cell_type": "code",
   "execution_count": null,
   "metadata": {},
   "outputs": [],
   "source": [
    "X = baseflow[['Evapotranspiration', 'Precipitation', 'Irrigation_pumping']]\n",
    "y = baseflow.Observed\n",
    "\n",
    "lm = LinearRegression()\n",
    "lm.fit(X, y)\n",
    "\n",
    "display(lm.intercept_)\n",
    "display(list(zip(['Evapotranspiration', 'Precipitation', 'Irrigation_pumping'], lm.coef_)))"
   ]
  },
  {
   "cell_type": "code",
   "execution_count": null,
   "metadata": {},
   "outputs": [],
   "source": [
    "import statsmodels.formula.api as smf\n",
    "\n",
    "lm = smf.ols(formula='Observed ~ Evapotranspiration', data=baseflow).fit()\n",
    "lm.pvalues"
   ]
  },
  {
   "cell_type": "code",
   "execution_count": null,
   "metadata": {},
   "outputs": [],
   "source": [
    "lm = smf.ols(formula='Observed ~ Precipitation', data=baseflow).fit()\n",
    "lm.pvalues"
   ]
  },
  {
   "cell_type": "code",
   "execution_count": null,
   "metadata": {},
   "outputs": [],
   "source": [
    "lm = smf.ols(formula='Observed ~ Irrigation_pumping', data=baseflow).fit()\n",
    "lm.pvalues"
   ]
  },
  {
   "cell_type": "code",
   "execution_count": null,
   "metadata": {},
   "outputs": [],
   "source": [
    "X = baseflow[['Evapotranspiration', 'Precipitation']]\n",
    "y = baseflow.Observed\n",
    "\n",
    "lm = LinearRegression()\n",
    "lm.fit(X, y)\n",
    "\n",
    "display(lm.intercept_)\n",
    "display(list(zip(['Evapotranspiration', 'Precipitation'], lm.coef_)))"
   ]
  },
  {
   "cell_type": "code",
   "execution_count": null,
   "metadata": {},
   "outputs": [],
   "source": [
    "locationAVG = baseflow.groupby(['Segment_id'])[['Evapotranspiration', 'Precipitation', 'Irrigation_pumping', 'Observed']].mean()\n",
    "locationMED = baseflow.groupby(['Segment_id'])[['Evapotranspiration', 'Precipitation', 'Irrigation_pumping', 'Observed']].median()\n",
    "\n",
    "display(locationAVG)\n",
    "display(locationMED)"
   ]
  },
  {
   "cell_type": "code",
   "execution_count": null,
   "metadata": {},
   "outputs": [],
   "source": [
    "plt.figure(figsize=(15, 8))\n",
    "ax = sns.regplot(x='Evapotranspiration', y='Observed', data=locationAVG)\n",
    "plt.figure(figsize=(15, 8))\n",
    "ax = sns.regplot(x='Precipitation', y='Observed', data=locationAVG)\n",
    "plt.figure(figsize=(15, 8))\n",
    "ax = sns.regplot(x='Irrigation_pumping', y='Observed', data=locationAVG)"
   ]
  },
  {
   "cell_type": "code",
   "execution_count": null,
   "metadata": {},
   "outputs": [],
   "source": [
    "plt.figure(figsize=(15, 8))\n",
    "ax = sns.regplot(x='Evapotranspiration', y='Observed', data=locationMED)\n",
    "plt.figure(figsize=(15, 8))\n",
    "ax = sns.regplot(x='Precipitation', y='Observed', data=locationMED)\n",
    "plt.figure(figsize=(15, 8))\n",
    "ax = sns.regplot(x='Irrigation_pumping', y='Observed', data=locationMED)"
   ]
  }
 ],
 "metadata": {
  "kernelspec": {
   "display_name": "Python 3",
   "language": "python",
   "name": "python3"
  },
  "language_info": {
   "codemirror_mode": {
    "name": "ipython",
    "version": 3
   },
   "file_extension": ".py",
   "mimetype": "text/x-python",
   "name": "python",
   "nbconvert_exporter": "python",
   "pygments_lexer": "ipython3",
   "version": "3.8.10"
  },
  "orig_nbformat": 4
 },
 "nbformat": 4,
 "nbformat_minor": 2
}
