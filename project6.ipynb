{
 "cells": [
  {
   "cell_type": "code",
   "execution_count": null,
   "metadata": {},
   "outputs": [],
   "source": [
    "import pandas as pd\n",
    "import seaborn as sns\n",
    "import numpy as np\n",
    "from matplotlib import pyplot as plt\n",
    "from scipy import stats\n",
    "import datetime\n",
    "from sklearn.linear_model import LinearRegression"
   ]
  },
  {
   "cell_type": "code",
   "execution_count": null,
   "metadata": {},
   "outputs": [],
   "source": [
    "baseflow = pd.read_csv('RRCA_baseflow.csv')"
   ]
  },
  {
   "cell_type": "code",
   "execution_count": null,
   "metadata": {},
   "outputs": [],
   "source": [
    "result = []\n",
    "for date in baseflow['Date']:\n",
    "        excel_date = int(date)\n",
    "        py_date = datetime.datetime(1, 1, 1) + datetime.timedelta(excel_date - 2)\n",
    "\n",
    "        result.append(py_date)\n",
    "\n",
    "baseflow['formatDate'] = result\n",
    "\n",
    "display(baseflow)"
   ]
  },
  {
   "cell_type": "code",
   "execution_count": null,
   "metadata": {},
   "outputs": [],
   "source": [
    "plt.figure(figsize=(15,10))\n",
    "evapotranspirationGraph = sns.regplot(data=baseflow.sample(frac=.25), x='Evapotranspiration', y='Observed')\n",
    "evapotranspirationGraph.set(title=\"Evapotranspiration vs Observed Baseflow\")\n",
    "plt.savefig('./Figs/Evap_vs_ObservedBaseflow.pdf')\n",
    "(r, p) = stats.pearsonr(baseflow[\"Evapotranspiration\"], baseflow[\"Observed\"]) \n",
    "print(\"Evapotranspiration Correlation: r = \" + str(r) + \", p = \" + str(p))\n",
    "plt.figure(figsize=(15,10))\n",
    "precipitationGraph = sns.regplot(data=baseflow.sample(frac=.25), x='Precipitation', y='Observed')\n",
    "precipitationGraph.set(title=\"Precipitation vs Observed Baseflow\")\n",
    "plt.savefig('./Figs/Precip_vs_ObservedBaseflow.pdf')\n",
    "(r, p) = stats.pearsonr(baseflow[\"Precipitation\"], baseflow[\"Observed\"]) \n",
    "print(\"Precipitation Correlation: r = \" + str(r) + \", p = \" + str(p))\n",
    "plt.figure(figsize=(15,10))\n",
    "irrPumpingGraph = sns.regplot(data=baseflow.sample(frac=.25), x='Irrigation_pumping', y='Observed')\n",
    "irrPumpingGraph.set(xlabel=\"Irrigation Pumping\", title=\"Irrigation Pumping vs Observed Baseflow\")\n",
    "plt.savefig('./Figs/IrrPump_vs_ObservedBaseflow.pdf')\n",
    "(r, p) = stats.pearsonr(baseflow[\"Irrigation_pumping\"], baseflow[\"Observed\"]) \n",
    "print(\"Irrigation Pumping Correlation: r = \" + str(r) + \", p = \" + str(p))"
   ]
  },
  {
   "cell_type": "code",
   "execution_count": null,
   "metadata": {},
   "outputs": [],
   "source": [
    "plt.figure(figsize=(15, 10))\n",
    "evapotransipirationTimeGraph = sns.regplot(x='Date', y='Evapotranspiration', data=baseflow.sample(frac=.25))\n",
    "evapotransipirationTimeGraph.set(title=\"Evapotranspiration over Time\", xlabel=\"Days since 01-11-1941\")\n",
    "plt.savefig('./Figs/Evap_over_time.pdf')"
   ]
  },
  {
   "cell_type": "code",
   "execution_count": null,
   "metadata": {},
   "outputs": [],
   "source": [
    "plt.figure(figsize=(15, 10))\n",
    "precipitationTimeGraph = sns.regplot(x='Date', y='Precipitation', data=baseflow.sample(frac=.25))\n",
    "precipitationTimeGraph.set(title=\"Precipitation over Time\", xlabel=\"Days since 01-11-1941\")\n",
    "plt.savefig('./Figs/Precip_over_time.pdf')"
   ]
  },
  {
   "cell_type": "code",
   "execution_count": null,
   "metadata": {},
   "outputs": [],
   "source": [
    "plt.figure(figsize=(15, 10))\n",
    "irrPumpingTimeGraph = sns.regplot(x='Date', y='Irrigation_pumping', data=baseflow.sample(frac=.25))\n",
    "irrPumpingTimeGraph.set(title=\"Irrigation Pumping over Time\", xlabel=\"Days since 01-11-1941\", ylabel=\"Irrigation Pumping\")\n",
    "plt.savefig('./Figs/IrrPump_over_time.pdf')"
   ]
  },
  {
   "cell_type": "code",
   "execution_count": null,
   "metadata": {},
   "outputs": [],
   "source": [
    "plt.figure(figsize=(15, 10))\n",
    "observedTimeGraph = sns.regplot(x='Date', y='Observed', data=baseflow.sample(frac=.05))\n",
    "observedTimeGraph.set(title=\"Observed Baseaflow over Time\", xlabel=\"Days since 01-11-1941\", ylabel=\"Observed Baseflow\")\n",
    "plt.savefig('./Figs/Baseflow_over_time.pdf')"
   ]
  },
  {
   "cell_type": "code",
   "execution_count": null,
   "metadata": {},
   "outputs": [],
   "source": [
    "X = baseflow[['Evapotranspiration', 'Precipitation', 'Irrigation_pumping']]\n",
    "y = baseflow.Observed\n",
    "\n",
    "lm = LinearRegression()\n",
    "lm.fit(X, y)\n",
    "\n",
    "display(lm.intercept_)\n",
    "display(list(zip(['Evapotranspiration', 'Precipitation', 'Irrigation_pumping'], lm.coef_)))"
   ]
  },
  {
   "cell_type": "code",
   "execution_count": null,
   "metadata": {},
   "outputs": [],
   "source": [
    "import statsmodels.formula.api as smf\n",
    "\n",
    "lm = smf.ols(formula='Observed ~ Evapotranspiration', data=baseflow).fit()\n",
    "lm.pvalues"
   ]
  },
  {
   "cell_type": "code",
   "execution_count": null,
   "metadata": {},
   "outputs": [],
   "source": [
    "lm = smf.ols(formula='Observed ~ Precipitation', data=baseflow).fit()\n",
    "lm.pvalues"
   ]
  },
  {
   "cell_type": "code",
   "execution_count": null,
   "metadata": {},
   "outputs": [],
   "source": [
    "lm = smf.ols(formula='Observed ~ Irrigation_pumping', data=baseflow).fit()\n",
    "lm.pvalues"
   ]
  },
  {
   "cell_type": "code",
   "execution_count": null,
   "metadata": {},
   "outputs": [],
   "source": [
    "X = baseflow[['Evapotranspiration', 'Precipitation']]\n",
    "y = baseflow.Observed\n",
    "\n",
    "lm = LinearRegression()\n",
    "lm.fit(X, y)\n",
    "\n",
    "display(lm.intercept_)\n",
    "display(list(zip(['Evapotranspiration', 'Precipitation'], lm.coef_)))"
   ]
  },
  {
   "cell_type": "code",
   "execution_count": null,
   "metadata": {},
   "outputs": [],
   "source": [
    "locationAVG = baseflow.groupby(['Segment_id'])[['Evapotranspiration', 'Precipitation', 'Irrigation_pumping', 'Observed']].mean()\n",
    "locationMED = baseflow.groupby(['Segment_id'])[['Evapotranspiration', 'Precipitation', 'Irrigation_pumping', 'Observed']].median()\n",
    "\n",
    "display(locationAVG)\n",
    "display(locationMED)"
   ]
  },
  {
   "cell_type": "code",
   "execution_count": null,
   "metadata": {},
   "outputs": [],
   "source": [
    "plt.figure(figsize=(15, 8))\n",
    "locAVGEvapotranspirationGraph = sns.regplot(x='Evapotranspiration', y='Observed', data=locationAVG)\n",
    "locAVGEvapotranspirationGraph.set(title=\"Average Evapotranspiration at Each Site\")\n",
    "plt.savefig('./Figs/Location_AVG_Evap.pdf')\n",
    "plt.figure(figsize=(15, 8))\n",
    "locAVGPrecipitationGraph = sns.regplot(x='Precipitation', y='Observed', data=locationAVG)\n",
    "locAVGPrecipitationGraph.set(title=\"Average Precipitation at Each Site\")\n",
    "plt.savefig('./Figs/Location_AVG_Precip.pdf')\n",
    "plt.figure(figsize=(15, 8))\n",
    "locAVGIrrPumpingGraph = sns.regplot(x='Irrigation_pumping', y='Observed', data=locationAVG)\n",
    "locAVGIrrPumpingGraph.set(title=\"Average Irrigation Pumping at Each Site\")\n",
    "plt.savefig('./Figs/Location_AVG_IrrPump.pdf')"
   ]
  },
  {
   "cell_type": "code",
   "execution_count": null,
   "metadata": {},
   "outputs": [],
   "source": [
    "plt.figure(figsize=(15, 8))\n",
    "locMEDEvapotranspirationGraph = sns.regplot(x='Evapotranspiration', y='Observed', data=locationMED)\n",
    "locMEDEvapotranspirationGraph.set(title=\"Median Evapotranspiration at Each Site\")\n",
    "plt.savefig('./Figs/Location_MED_Evap.pdf')\n",
    "plt.figure(figsize=(15, 8))\n",
    "locMEDPrecipitationGraph = sns.regplot(x='Precipitation', y='Observed', data=locationMED)\n",
    "locMEDPrecipitationGraph.set(title=\"Median Precipitation at Each Site\")\n",
    "plt.savefig('./Figs/Location_MED_Precip.pdf')\n",
    "plt.figure(figsize=(15, 8))\n",
    "locMEDIrrPumpingGraph = sns.regplot(x='Irrigation_pumping', y='Observed', data=locationMED)\n",
    "locMEDIrrPumpingGraph.set(title=\"Median Irrigation Pumping at Each Site\", xlabel=\"Irrigation Pumping\")\n",
    "plt.savefig('./Figs/Location_MED_IrrPump.pdf')"
   ]
  }
 ],
 "metadata": {
  "kernelspec": {
   "display_name": "Python 3",
   "language": "python",
   "name": "python3"
  },
  "language_info": {
   "codemirror_mode": {
    "name": "ipython",
    "version": 3
   },
   "file_extension": ".py",
   "mimetype": "text/x-python",
   "name": "python",
   "nbconvert_exporter": "python",
   "pygments_lexer": "ipython3",
   "version": "3.8.10"
  },
  "orig_nbformat": 4
 },
 "nbformat": 4,
 "nbformat_minor": 2
}
